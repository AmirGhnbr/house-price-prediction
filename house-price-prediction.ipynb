{
 "cells": [
  {
   "cell_type": "markdown",
   "id": "9ea1e1fb",
   "metadata": {},
   "source": [
    "# house price prediction project from kaggle"
   ]
  },
  {
   "cell_type": "markdown",
   "id": "e44b48b5",
   "metadata": {},
   "source": [
    "- [based on kaggle competition](https://www.kaggle.com/competitions/house-prices-advanced-regression-techniques)\n"
   ]
  },
  {
   "cell_type": "markdown",
   "id": "bfa8cb42",
   "metadata": {},
   "source": [
    "* steps to take:\n",
    "    * read the data\n",
    "    * visualize and make sense of data\n",
    "    * clean the data\n",
    "    * build models\n",
    "    * pick one and tune it\n",
    "    * export model (optional)"
   ]
  },
  {
   "cell_type": "code",
   "execution_count": null,
   "id": "ad3226a4",
   "metadata": {},
   "outputs": [],
   "source": [
    "import numpy as np\n",
    "import pandas as pd\n",
    "import seaborn as sns\n",
    "import sklearn\n",
    "from sklearn.impute import SimpleImputer\n",
    "from sklearn.pipeline import Pipeline\n",
    "from sklearn.preprocessing import StandardScaler\n",
    "from sklearn.preprocessing import OneHotEncoder\n",
    "from sklearn.compose import ColumnTransformer\n",
    "import matplotlib.pyplot as plt\n",
    "%matplotlib inline"
   ]
  },
  {
   "cell_type": "code",
   "execution_count": null,
   "id": "802086f1",
   "metadata": {},
   "outputs": [],
   "source": [
    "# import data\n",
    "housing_data_train = pd.read_csv(\"train.csv\")\n",
    "housing_data_test = pd.read_csv(\"test.csv\")"
   ]
  },
  {
   "cell_type": "code",
   "execution_count": null,
   "id": "7de15ac7",
   "metadata": {},
   "outputs": [],
   "source": [
    "train_set = housing_data_train"
   ]
  },
  {
   "cell_type": "code",
   "execution_count": null,
   "id": "20e1a304",
   "metadata": {},
   "outputs": [],
   "source": [
    "housing_data_train.head()"
   ]
  },
  {
   "cell_type": "code",
   "execution_count": null,
   "id": "5f67a2ab",
   "metadata": {},
   "outputs": [],
   "source": [
    "housing_data_train.info()"
   ]
  },
  {
   "cell_type": "code",
   "execution_count": null,
   "id": "bc642e52",
   "metadata": {},
   "outputs": [],
   "source": [
    "housing_data_train.isna().sum().head(10)"
   ]
  },
  {
   "cell_type": "code",
   "execution_count": null,
   "id": "dc13afee",
   "metadata": {},
   "outputs": [],
   "source": [
    "housing_data_train.dtypes"
   ]
  },
  {
   "cell_type": "code",
   "execution_count": null,
   "id": "98bbc0c1",
   "metadata": {},
   "outputs": [],
   "source": [
    "## plot the relationship between LotArea & YearBuilt and saleprice\n",
    "fig , (ax1,ax2) = plt.subplots(nrows=2,ncols=1,figsize=(10,6))\n",
    "plt.subplots_adjust(hspace=0.5)\n",
    "\n",
    "scatter = ax1.scatter(x= housing_data_train[\"LotArea\"]/10000,\n",
    "                      y= housing_data_train[\"SalePrice\"]/10000,\n",
    "                      c=\"blue\")\n",
    "ax1.set_ylim((0,100))\n",
    "ax1.set_xlim((0,13))\n",
    "ax1.set(title=\"relationship between Lot area & sale price\",\n",
    "        ylabel=\"saleprice(10K)$\",\n",
    "        xlabel=\"Lot area(10K)\")\n",
    "\n",
    "scatter = ax2.scatter(x = housing_data_train[\"YearBuilt\"],\n",
    "                      y= housing_data_train[\"SalePrice\"]/10000,\n",
    "                      c= \"g\")\n",
    "ax2.set_ylim((0,60))\n",
    "ax2.set_xlim((1870,2015))\n",
    "ax2.set(title = \"relationship between Yearbuilt and sale price\",\n",
    "        ylabel=\"saleprice(10K)$\",\n",
    "        xlabel=\"yearbuilt\");\n",
    "\n"
   ]
  },
  {
   "cell_type": "code",
   "execution_count": null,
   "id": "c6992642",
   "metadata": {},
   "outputs": [],
   "source": [
    "housing_data_train_copy=housing_data_train.copy()\n",
    "housing_data_train_copy[\"LotArea/10k\"]=housing_data_train_copy[\"LotArea\"]/10000\n",
    "housing_data_train_copy[\"SalePrice/1k\"]=housing_data_train_copy[\"SalePrice\"]/1000\n",
    "\n",
    "housing_data_train_copy.plot(kind=\"scatter\",x=\"LotArea/10k\", y=\"YearBuilt\", alpha=0.4,xlim=(0,5),\n",
    "                        s=housing_data_train_copy[\"SalePrice/1k\"],figsize=(16,10),\n",
    "                        c=housing_data_train_copy[\"SalePrice\"], cmap=plt.get_cmap(\"jet\"),colorbar=True);"
   ]
  },
  {
   "cell_type": "markdown",
   "id": "843ae9f4",
   "metadata": {},
   "source": [
    "## Cleaning the data"
   ]
  },
  {
   "cell_type": "code",
   "execution_count": null,
   "id": "81bcb9fe",
   "metadata": {},
   "outputs": [],
   "source": [
    "imputer = SimpleImputer(strategy=\"median\")"
   ]
  },
  {
   "cell_type": "code",
   "execution_count": null,
   "id": "376fc0d8",
   "metadata": {},
   "outputs": [],
   "source": [
    "housing_num=train_set.select_dtypes(include=[\"number\"]).drop(\"SalePrice\",axis=1)"
   ]
  },
  {
   "cell_type": "code",
   "execution_count": null,
   "id": "47c41191",
   "metadata": {},
   "outputs": [],
   "source": [
    "imputer.fit(housing_num)"
   ]
  },
  {
   "cell_type": "markdown",
   "id": "25cd0b85",
   "metadata": {},
   "source": [
    "## Create full pipeline to process numerical & categorical data"
   ]
  },
  {
   "cell_type": "code",
   "execution_count": null,
   "id": "9854e3d9",
   "metadata": {},
   "outputs": [],
   "source": [
    "num_pipeline = Pipeline([\n",
    "    (\"imputer\",SimpleImputer(strategy=\"median\")),\n",
    "    (\"standard scaler\",StandardScaler())\n",
    "])"
   ]
  },
  {
   "cell_type": "code",
   "execution_count": null,
   "id": "e09f78f8",
   "metadata": {},
   "outputs": [],
   "source": [
    "cat_attributes=train_set.select_dtypes(include=[\"object\"]).columns\n",
    "len(cat_attributes)"
   ]
  },
  {
   "cell_type": "code",
   "execution_count": null,
   "id": "3ceaeb7d",
   "metadata": {},
   "outputs": [],
   "source": [
    "num_attributes = list(housing_num)\n",
    "\n",
    "full_pipeline_train = ColumnTransformer([\n",
    "    (\"num\", num_pipeline, num_attributes),\n",
    "    (\"cat\", OneHotEncoder(), cat_attributes)\n",
    "])\n",
    "\n",
    "housing_prepared = full_pipeline_train.fit_transform(train_set)\n",
    "housing_prepared"
   ]
  },
  {
   "cell_type": "code",
   "execution_count": null,
   "id": "ee7ad5a0",
   "metadata": {},
   "outputs": [],
   "source": [
    "# cat_attributes_test=cros_val.select_dtypes(include=[\"object\"]).columns\n",
    "# num_attributes_test = list(housing_num_test)\n",
    "\n",
    "# print(\"//////\", len(cat_attributes_test), len(cat_attributes))\n",
    "\n",
    "# full_pipeline_test = ColumnTransformer([\n",
    "#     (\"num_test\", num_pipeline, num_attributes_test),\n",
    "#     (\"cat_test\", OneHotEncoder(), cat_attributes_test)\n",
    "# ])\n",
    "\n",
    "# housing_prepared_test = full_pipeline_test.fit_transform(cros_val)\n",
    "# housing_prepared_test\n",
    "\n",
    "# # print(\"///////\", OneHotEncoder(cat_attributes_test).shape)"
   ]
  },
  {
   "cell_type": "code",
   "execution_count": null,
   "id": "a8bf7759",
   "metadata": {},
   "outputs": [],
   "source": [
    "df_housing_prepared = pd.DataFrame.sparse.from_spmatrix(housing_prepared)\n",
    "df_housing_prepared.head().T"
   ]
  },
  {
   "cell_type": "code",
   "execution_count": null,
   "id": "9925a8c5",
   "metadata": {},
   "outputs": [],
   "source": [
    "# df_housing_prepared_test = pd.DataFrame.sparse.from_spmatrix(housing_prepared_test)\n",
    "# df_housing_prepared_test.head().T"
   ]
  },
  {
   "cell_type": "markdown",
   "id": "f4b0bbaa",
   "metadata": {},
   "source": [
    "## Build model"
   ]
  },
  {
   "cell_type": "markdown",
   "id": "a1fefd13",
   "metadata": {},
   "source": [
    "### Build simple models"
   ]
  },
  {
   "cell_type": "code",
   "execution_count": null,
   "id": "4bad7641",
   "metadata": {},
   "outputs": [],
   "source": [
    "y_train = train_set[\"SalePrice\"]"
   ]
  },
  {
   "cell_type": "code",
   "execution_count": null,
   "id": "e5b60563",
   "metadata": {},
   "outputs": [],
   "source": [
    "from sklearn.linear_model import LinearRegression\n",
    "\n",
    "reg = LinearRegression()\n",
    "reg.fit(df_housing_prepared, y_train)"
   ]
  },
  {
   "cell_type": "code",
   "execution_count": null,
   "id": "98ec6666",
   "metadata": {},
   "outputs": [],
   "source": [
    "len(housing_data_test.columns)"
   ]
  },
  {
   "cell_type": "code",
   "execution_count": null,
   "id": "716d5e6e",
   "metadata": {},
   "outputs": [],
   "source": [
    "len(housing_data_train.columns)"
   ]
  },
  {
   "cell_type": "code",
   "execution_count": null,
   "id": "42ede522",
   "metadata": {},
   "outputs": [],
   "source": [
    "len(housing_data_train)"
   ]
  },
  {
   "cell_type": "code",
   "execution_count": null,
   "id": "ba806d75",
   "metadata": {},
   "outputs": [],
   "source": [
    "# test_preprocessed = full_pipeline_test.fit_transform(cros_val)\n",
    "# df_housing_prepared_test = pd.DataFrame(test_preprocessed)\n",
    "# print(df_housing_prepared_test.shape)"
   ]
  },
  {
   "cell_type": "code",
   "execution_count": null,
   "id": "de64c45b",
   "metadata": {},
   "outputs": [],
   "source": [
    "train_preprocessed = full_pipeline_train.fit_transform(train_set)\n",
    "df_housing_prepared_train = pd.DataFrame.sparse.from_spmatrix(train_preprocessed)"
   ]
  },
  {
   "cell_type": "code",
   "execution_count": null,
   "id": "67a16193",
   "metadata": {},
   "outputs": [],
   "source": [
    "prediction = reg.predict(df_housing_prepared_train)\n",
    "prediction"
   ]
  },
  {
   "cell_type": "code",
   "execution_count": null,
   "id": "0e144077",
   "metadata": {},
   "outputs": [],
   "source": [
    "prediction[:5], y_train[:5]"
   ]
  },
  {
   "cell_type": "markdown",
   "id": "bff92fb1",
   "metadata": {},
   "source": [
    "## Evaluation matrices"
   ]
  },
  {
   "cell_type": "code",
   "execution_count": null,
   "id": "a4cc2ae6",
   "metadata": {},
   "outputs": [],
   "source": [
    "from sklearn.metrics import mean_squared_error\n",
    "from sklearn.metrics import mean_absolute_error\n",
    "\n",
    "linreg_mse_error = mean_squared_error(y_train, prediction)\n",
    "linreg_mse_error = np.sqrt(linreg_mse_error)\n",
    "\n",
    "\n",
    "linreg_mae_error = mean_absolute_error(y_train, prediction)\n",
    "linreg_mae_error,linreg_mse_error"
   ]
  },
  {
   "cell_type": "code",
   "execution_count": null,
   "id": "24ab970e",
   "metadata": {},
   "outputs": [],
   "source": [
    "y_train.mean()"
   ]
  },
  {
   "cell_type": "markdown",
   "id": "ea24d30d",
   "metadata": {},
   "source": [
    "### prepare test data"
   ]
  },
  {
   "cell_type": "code",
   "execution_count": null,
   "id": "7d1e6985",
   "metadata": {},
   "outputs": [],
   "source": [
    "housing_prepared = full_pipeline_train.fit_transform(housing_data_test)\n",
    "df_test= pd.DataFrame.sparse.from_spmatrix(train_preprocessed)\n",
    "df_test.head().T"
   ]
  },
  {
   "cell_type": "markdown",
   "id": "9f81f0f7",
   "metadata": {},
   "source": [
    "### Create function to evaluate in different ways "
   ]
  },
  {
   "cell_type": "code",
   "execution_count": null,
   "id": "35651c13",
   "metadata": {},
   "outputs": [],
   "source": [
    "from sklearn.metrics import *\n",
    "\n",
    "def evaluate(model):\n",
    "    test_preds = model.predict(df_test)\n",
    "    scores = {\n",
    "        \"Test RMSE\": np.sqrt(mean_squared_error(y_train, test_preds)),\n",
    "        \"Test MAE\": mean_absolute_error(y_train, test_preds),\n",
    "        \"Test MSLE\": mean_squared_log_error(y_train, test_preds),\n",
    "        \"Test R^2\": r2_score(y_train, test_preds),\n",
    "    }\n",
    "    return scores"
   ]
  },
  {
   "cell_type": "markdown",
   "id": "4f9cb136",
   "metadata": {},
   "source": [
    "### Use advance models"
   ]
  },
  {
   "cell_type": "code",
   "execution_count": null,
   "id": "aef80ff6",
   "metadata": {},
   "outputs": [],
   "source": [
    "# RandomForestRegressor\n",
    "from sklearn.ensemble import RandomForestRegressor\n",
    "\n",
    "reg = RandomForestRegressor()\n",
    "reg.fit(df_housing_prepared_train,y_train)\n",
    "\n",
    "print(evaluate(reg))"
   ]
  },
  {
   "cell_type": "code",
   "execution_count": null,
   "id": "128f8216",
   "metadata": {},
   "outputs": [],
   "source": [
    "from sklearn.tree import DecisionTreeRegressor\n",
    "from sklearn.model_selection import cross_val_score\n",
    "\n",
    "reg = DecisionTreeRegressor(random_state = 42)\n",
    "reg.fit(df_housing_prepared_train,y_train)\n",
    "\n",
    "scores = cross_val_score(reg, df_housing_prepared_train,y_train,\n",
    "                         scoring=\"neg_mean_squared_error\", cv=10)\n",
    "tree_rmse_scores = np.sqrt(-scores)\n",
    "\n",
    "# print(evaluate(reg))"
   ]
  },
  {
   "cell_type": "code",
   "execution_count": null,
   "id": "87680560",
   "metadata": {},
   "outputs": [],
   "source": [
    "def display_scores(scores):\n",
    "    print(\"Scores:\", scores)\n",
    "    print(\"Mean:\", scores.mean())\n",
    "    print(\"Standard deviation:\", scores.std())\n",
    "\n",
    "display_scores(tree_rmse_scores)"
   ]
  },
  {
   "cell_type": "code",
   "execution_count": null,
   "id": "833dd04a",
   "metadata": {},
   "outputs": [],
   "source": [
    "from sklearn.linear_model import Ridge\n",
    "\n",
    "regr = Ridge()\n",
    "regr.fit(df_housing_prepared_train,y_train)\n",
    "    \n",
    "print(evaluate(regr))"
   ]
  },
  {
   "cell_type": "code",
   "execution_count": null,
   "id": "fe06826a",
   "metadata": {},
   "outputs": [],
   "source": [
    "from sklearn.svm import LinearSVR\n",
    "\n",
    "reg = LinearSVR()\n",
    "reg.fit(df_housing_prepared_train,y_train)\n",
    "\n",
    "print(evaluate(reg))"
   ]
  },
  {
   "cell_type": "code",
   "execution_count": null,
   "id": "bfd3e904",
   "metadata": {},
   "outputs": [],
   "source": [
    "from sklearn.ensemble import GradientBoostingRegressor\n",
    "\n",
    "reg = GradientBoostingRegressor()\n",
    "reg.fit(df_housing_prepared_train,y_train)\n",
    "\n",
    "print(evaluate(reg))"
   ]
  },
  {
   "cell_type": "code",
   "execution_count": null,
   "id": "455dba5b",
   "metadata": {},
   "outputs": [],
   "source": [
    "from xgboost import XGBRegressor\n",
    "\n",
    "reg = XGBRegressor()\n",
    "reg.fit(df_housing_prepared_train,y_train)\n",
    "\n",
    "print(evaluate(reg))"
   ]
  },
  {
   "cell_type": "code",
   "execution_count": null,
   "id": "ec42b268",
   "metadata": {},
   "outputs": [],
   "source": [
    "from sklearn.neural_network import MLPRegressor\n",
    "\n",
    "reg = MLPRegressor(random_state=1, max_iter=500).fit(df_housing_prepared_train,y_train)\n",
    "\n",
    "print(evaluate(reg))"
   ]
  },
  {
   "cell_type": "code",
   "execution_count": null,
   "id": "d89b5a53",
   "metadata": {},
   "outputs": [],
   "source": [
    "from sklearn.ensemble import AdaBoostRegressor\n",
    "\n",
    "reg= AdaBoostRegressor().fit(df_housing_prepared_train,y_train)\n",
    "\n",
    "print(evaluate(reg))"
   ]
  },
  {
   "cell_type": "markdown",
   "id": "33f26d97",
   "metadata": {},
   "source": [
    "## Tuning the prameters\n",
    "### Our best performing models are XGBOOST & RFR so we will tune this two"
   ]
  },
  {
   "cell_type": "code",
   "execution_count": null,
   "id": "eece7aac",
   "metadata": {},
   "outputs": [],
   "source": [
    "# from sklearn.model_selection import RandomizedSearchCV\n",
    "\n",
    "# parameter_space = \\\n",
    "# {\n",
    "# \"max_depth\": [4, 5, 6, 7],\n",
    "# \"learning_rate\": [0.005, 0.01 ,0.1, 1],\n",
    "# \"n_estimators\": [700, 1000, 2500, 3000],\n",
    "# \"booster\": [\"gbtree\",],\n",
    "# \"gamma\": [7, 25, 100,200],\n",
    "# \"subsample\": [0.3, 0.6, 1],\n",
    "# \"colsample_bytree\": [0.5, 0.7,2],\n",
    "# \"colsample_bylevel\": [0.5, 0.7,3],\n",
    "# \"reg_alpha\": [0.5, 1, 10, 33,100],\n",
    "# \"reg_lambda\": [1, 3, 10,25],\n",
    "# }\n",
    "# reg = RandomizedSearchCV(XGBRegressor(random_state=3),\n",
    "# parameter_space, cv=5, n_jobs=-1,\n",
    "# scoring=\"neg_mean_squared_error\",\n",
    "# random_state=3, n_iter=20)\n",
    "\n",
    "# reg.fit(df_housing_prepared_train,y_train)\n",
    "\n",
    "# print(reg.best_params_)\n",
    "# regXGBR= XGBRegressor(**reg.best_params_)\n",
    "# regXGBR.fit(df_housing_prepared_train,y_train)\n",
    "# my_model_pred= regXGBR.predict(df_test)\n",
    "\n",
    "# print(evaluate(regXGBR))"
   ]
  },
  {
   "cell_type": "code",
   "execution_count": null,
   "id": "9415501b",
   "metadata": {},
   "outputs": [],
   "source": [
    "## use grid search\n",
    "from sklearn.model_selection import GridSearchCV\n",
    "\n",
    "parameter_space = \\\n",
    "{\n",
    "\"max_depth\": [4, 5, 6, 7],\n",
    "\"learning_rate\": [0.005, 0.01 ,0.1, 1],\n",
    "\"n_estimators\": [700, 1000, 2500, 3000],\n",
    "\"booster\": [\"gbtree\",],\n",
    "\"gamma\": [7, 25, 100,200],\n",
    "\"subsample\": [0.3, 0.6, 1],\n",
    "\"colsample_bytree\": [0.5, 0.7,2],\n",
    "\"colsample_bylevel\": [0.5, 0.7,3],\n",
    "\"reg_alpha\": [0.5, 1, 10, 33,100],\n",
    "\"reg_lambda\": [1, 3, 10,25],\n",
    "}\n",
    "reg = GridSearchCV(XGBRegressor(random_state=3),\n",
    "parameter_space, cv=10, n_jobs=-1,\n",
    "scoring=\"neg_mean_squared_error\")\n",
    "\n",
    "reg.fit(df_housing_prepared_train,y_train)\n",
    "\n",
    "print(reg.best_params_)\n",
    "regXGBR= XGBRegressor(**reg.best_params_)\n",
    "regXGBR.fit(df_housing_prepared_train,y_train)\n",
    "my_model_pred= regXGBR.predict(df_test)\n",
    "\n",
    "print(evaluate(regXGBR))"
   ]
  },
  {
   "cell_type": "markdown",
   "id": "d23a55ce",
   "metadata": {},
   "source": [
    "### Submit to kaggle"
   ]
  },
  {
   "cell_type": "code",
   "execution_count": null,
   "id": "35e32175",
   "metadata": {},
   "outputs": [],
   "source": [
    "import os\n",
    "my_submission = pd.DataFrame({'Id': housing_data_test.Id, 'SalePrice': my_model_pred[:1459]})\n",
    "\n",
    "path=\"./submission.csv\"\n",
    "if not os.path.exists(path):\n",
    "    with open(path, 'w'): \n",
    "        my_submission.to_csv(path,index=False)"
   ]
  },
  {
   "cell_type": "code",
   "execution_count": null,
   "id": "34bbd4fa",
   "metadata": {},
   "outputs": [],
   "source": []
  }
 ],
 "metadata": {
  "kernelspec": {
   "display_name": "Python 3 (ipykernel)",
   "language": "python",
   "name": "python3"
  },
  "language_info": {
   "codemirror_mode": {
    "name": "ipython",
    "version": 3
   },
   "file_extension": ".py",
   "mimetype": "text/x-python",
   "name": "python",
   "nbconvert_exporter": "python",
   "pygments_lexer": "ipython3",
   "version": "3.10.4"
  }
 },
 "nbformat": 4,
 "nbformat_minor": 5
}
