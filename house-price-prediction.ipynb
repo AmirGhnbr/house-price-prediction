{
 "cells": [
  {
   "cell_type": "markdown",
   "id": "9ea1e1fb",
   "metadata": {},
   "source": [
    "# house price prediction project from kaggle"
   ]
  },
  {
   "cell_type": "markdown",
   "id": "e44b48b5",
   "metadata": {},
   "source": [
    "##### Check points:"
   ]
  },
  {
   "cell_type": "code",
   "execution_count": null,
   "id": "c11bdf7c",
   "metadata": {},
   "outputs": [],
   "source": []
  }
 ],
 "metadata": {
  "kernelspec": {
   "display_name": "Python 3 (ipykernel)",
   "language": "python",
   "name": "python3"
  },
  "language_info": {
   "codemirror_mode": {
    "name": "ipython",
    "version": 3
   },
   "file_extension": ".py",
   "mimetype": "text/x-python",
   "name": "python",
   "nbconvert_exporter": "python",
   "pygments_lexer": "ipython3",
   "version": "3.10.4"
  }
 },
 "nbformat": 4,
 "nbformat_minor": 5
}
